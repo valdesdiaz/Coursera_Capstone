{
    "cells": [
        {
            "cell_type": "markdown",
            "metadata": {
                "collapsed": true
            },
            "source": "<h1>Proyecto Final Batalla de los Vecindarios</h1>"
        },
        {
            "cell_type": "markdown",
            "metadata": {},
            "source": "<h2>Definici\u00f3n del Problema Comercial</h2>"
        },
        {
            "cell_type": "markdown",
            "metadata": {},
            "source": "Unos inversionistas desean abrir una cadena de kioskos de caf\u00e9 con wifi para sus clientes en la ciudad de Brooklyn, New York. Para ello desean identificar lugares con Wifi en la ciudad, como tambien identificar cuales \u00e1reas est\u00e1n cercanas a univerdidades , mall y oficinas para determinar \u00e1rea con mayor potencial de ventas."
        },
        {
            "cell_type": "markdown",
            "metadata": {},
            "source": "<h2>Descripci\u00f3n de los Datos</h2>"
        },
        {
            "cell_type": "markdown",
            "metadata": {},
            "source": "Se usara data con las coordenadas de los puntos con wifi alrededor de New York <a href=\"https://data.cityofnewyork.us/City-Government/NYC-Wi-Fi-Hotspot-Locations-Map/7agf-bcsq\">NYC Data</a>"
        },
        {
            "cell_type": "markdown",
            "metadata": {},
            "source": ""
        },
        {
            "cell_type": "markdown",
            "metadata": {},
            "source": "Se usara <b><a href=\"https://es.foursquare.com/developers/login?continue=%2Fdevelopers%2Fprojects\">foursquare</a></b> para identificar las universidades, mall y oficinas en el barrio de Brooklyn."
        },
        {
            "cell_type": "code",
            "execution_count": null,
            "metadata": {},
            "outputs": [],
            "source": ""
        }
    ],
    "metadata": {
        "kernelspec": {
            "display_name": "Python 3.10",
            "language": "python",
            "name": "python3"
        },
        "language_info": {
            "codemirror_mode": {
                "name": "ipython",
                "version": 3
            },
            "file_extension": ".py",
            "mimetype": "text/x-python",
            "name": "python",
            "nbconvert_exporter": "python",
            "pygments_lexer": "ipython3",
            "version": "3.10.9"
        }
    },
    "nbformat": 4,
    "nbformat_minor": 1
}