{
    "cells": [
        {
            "cell_type": "markdown",
            "metadata": {
                "collapsed": true
            },
            "source": "<h1>Proyecto Final Batalla de los Vecindarios</h1>"
        },
        {
            "cell_type": "markdown",
            "metadata": {},
            "source": "<h2>Definici\u00f3n del Problema Comercial</h2>"
        },
        {
            "cell_type": "markdown",
            "metadata": {},
            "source": "Unos inversionistas desean abrir una cadena de kioskos de café con wifi para sus clientes en la ciudad de Brooklyn, New York. Para ello desean identificar los lugares con más cantidad de Wifi gratuito en los vecindarios de la ciudad, como tambien identificar cuales áreas cercanas a esos WIfi contienen mayor cantidad de univerdidades , mall y oficinas que son los usuarios más comunes que compran café y utilizan wifi para así determinar el vecindario con mayor potencial de ventas para establecer diferentes puntos de ventas.."
        },
    
        {
            "cell_type": "markdown",
            "metadata": {},
            "source": ""
        },
        {
            "cell_type": "markdown",
            "metadata": {},
            "source": "Se usara <b><a href=\"https://es.foursquare.com/developers/login?continue=%2Fdevelopers%2Fprojects\">foursquare</a></b> para identificar las universidades, mall y oficinas en el barrio de Brooklyn."
        },
        {
            "cell_type": "code",
            "execution_count": null,
            "metadata": {},
            "outputs": [],
            "source": ""
        }
    ],
    "metadata": {
        "kernelspec": {
            "display_name": "Python 3.10",
            "language": "python",
            "name": "python3"
        },
        "language_info": {
            "codemirror_mode": {
                "name": "ipython",
                "version": 3
            },
            "file_extension": ".py",
            "mimetype": "text/x-python",
            "name": "python",
            "nbconvert_exporter": "python",
            "pygments_lexer": "ipython3",
            "version": "3.10.9"
        }
    },
    "nbformat": 4,
    "nbformat_minor": 1
}
