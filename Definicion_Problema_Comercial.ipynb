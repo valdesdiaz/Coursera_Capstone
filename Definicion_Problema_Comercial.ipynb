{
    "cells": [
        {
            "cell_type": "markdown",
            "metadata": {
                "collapsed": true
            },
            "source": "<h1>Proyecto Final Batalla de los Vecindarios</h1>"
        },
         {
            "cell_type": "markdown",
            "metadata": {},
            "source": ""
        },
        {
            "cell_type": "markdown",
            "metadata": {},
            "source": "<h2>Definici\u00f3n del Problema Comercial</h2>"
        },
                 {
            "cell_type": "markdown",
            "metadata": {},
            "source": "<h2>Introducci\u00f3n</h2>"
        },
        {
            "cell_type": "markdown",
            "metadata": {},
            "source": "En este proyecto se analisara los vecindarios de la ciudad de New York para determinar localidades para establecer puntos de ventas. El mismo es de interes para ese inversionistas o todo aquel que quiera establecer un punto de venta y establecer una cadena de kioskos de café con wifi para sus clientes en la ciudad de Brooklyn, New York. Para ello identificaremos los vecindarios con más cantidad de Wifi gratuito en  la ciudad, como tambien identificaremos cuales áreas cercanas a esos WIfi contienen mayor cantidad de univerdidades , mall y oficinas que son los usuarios más comunes que compran café y utilizan wifi para así determinar el vecindario con mayor potencial de ventas para establecer diferentes puntos de ventas."
        },
 
        {
            "cell_type": "code",
            "execution_count": null,
            "metadata": {},
            "outputs": [],
            "source": ""
        }
    ],
    "metadata": {
        "kernelspec": {
            "display_name": "Python 3.10",
            "language": "python",
            "name": "python3"
        },
        "language_info": {
            "codemirror_mode": {
                "name": "ipython",
                "version": 3
            },
            "file_extension": ".py",
            "mimetype": "text/x-python",
            "name": "python",
            "nbconvert_exporter": "python",
            "pygments_lexer": "ipython3",
            "version": "3.10.9"
        }
    },
    "nbformat": 4,
    "nbformat_minor": 1
}
