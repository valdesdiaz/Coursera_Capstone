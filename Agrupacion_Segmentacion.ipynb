{
    "cells": [
        {
            "cell_type": "markdown",
            "metadata": {
                "collapsed": true
            },
            "source": "<h1>Agrupaci\u00f3n y Segmentaci\u00f3n de Vecindarios</h1>"
        },
        {
            "cell_type": "code",
            "execution_count": 1,
            "metadata": {},
            "outputs": [],
            "source": "#Librerias\nimport pandas as pd\nimport numpy as np\nimport requests\nfrom bs4 import BeautifulSoup"
        },
        {
            "cell_type": "code",
            "execution_count": 3,
            "metadata": {},
            "outputs": [
                {
                    "name": "stdout",
                    "output_type": "stream",
                    "text": "Collecting package metadata (current_repodata.json): done\nSolving environment: done\n\n## Package Plan ##\n\n  environment location: /opt/conda/envs/Python-3.10\n\n  added / updated specs:\n    - geopy\n\n\nThe following packages will be downloaded:\n\n    package                    |            build\n    ---------------------------|-----------------\n    certifi-2022.12.7          |     pyhd8ed1ab_0         147 KB  conda-forge\n    geographiclib-1.52         |     pyhd8ed1ab_0          35 KB  conda-forge\n    geopy-2.3.0                |     pyhd8ed1ab_0          68 KB  conda-forge\n    ------------------------------------------------------------\n                                           Total:         251 KB\n\nThe following NEW packages will be INSTALLED:\n\n  geographiclib      conda-forge/noarch::geographiclib-1.52-pyhd8ed1ab_0\n  geopy              conda-forge/noarch::geopy-2.3.0-pyhd8ed1ab_0\n\nThe following packages will be SUPERSEDED by a higher-priority channel:\n\n  certifi            pkgs/main/linux-64::certifi-2022.12.7~ --> conda-forge/noarch::certifi-2022.12.7-pyhd8ed1ab_0\n\n\n\nDownloading and Extracting Packages\ngeopy-2.3.0          | 68 KB     | ##################################### | 100% \ncertifi-2022.12.7    | 147 KB    | ##################################### | 100% \ngeographiclib-1.52   | 35 KB     | ##################################### | 100% \nPreparing transaction: done\nVerifying transaction: done\nExecuting transaction: done\nRetrieving notices: ...working... done\n"
                }
            ],
            "source": "#!conda install -c conda-forge geopy --yes\n!conda install -c conda-forge geopy --yes"
        },
        {
            "cell_type": "code",
            "execution_count": 5,
            "metadata": {},
            "outputs": [
                {
                    "name": "stdout",
                    "output_type": "stream",
                    "text": "Collecting package metadata (current_repodata.json): done\nSolving environment: failed with initial frozen solve. Retrying with flexible solve.\nCollecting package metadata (repodata.json): done\nSolving environment: done\n\n## Package Plan ##\n\n  environment location: /opt/conda/envs/Python-3.10\n\n  added / updated specs:\n    - folium=0.5.0\n\n\nThe following packages will be downloaded:\n\n    package                    |            build\n    ---------------------------|-----------------\n    altair-4.2.2               |     pyhd8ed1ab_0         544 KB  conda-forge\n    branca-0.6.0               |     pyhd8ed1ab_0          27 KB  conda-forge\n    folium-0.5.0               |             py_0          45 KB  conda-forge\n    python_abi-3.10            |          2_cp310           4 KB  conda-forge\n    vincent-0.4.4              |             py_1          28 KB  conda-forge\n    widgetsnbextension-3.5.2   |  py310hff52083_1         1.3 MB  conda-forge\n    ------------------------------------------------------------\n                                           Total:         1.9 MB\n\nThe following NEW packages will be INSTALLED:\n\n  altair             conda-forge/noarch::altair-4.2.2-pyhd8ed1ab_0\n  branca             conda-forge/noarch::branca-0.6.0-pyhd8ed1ab_0\n  folium             conda-forge/noarch::folium-0.5.0-py_0\n  python_abi         conda-forge/linux-64::python_abi-3.10-2_cp310\n  vincent            conda-forge/noarch::vincent-0.4.4-py_1\n\nThe following packages will be UPDATED:\n\n  widgetsnbextension pkgs/main::widgetsnbextension-3.5.2-p~ --> conda-forge::widgetsnbextension-3.5.2-py310hff52083_1\n\n\n\nDownloading and Extracting Packages\nbranca-0.6.0         | 27 KB     | ##################################### | 100% \npython_abi-3.10      | 4 KB      | ##################################### | 100% \nvincent-0.4.4        | 28 KB     | ##################################### | 100% \naltair-4.2.2         | 544 KB    | ##################################### | 100% \nfolium-0.5.0         | 45 KB     | ##################################### | 100% \nwidgetsnbextension-3 | 1.3 MB    | ##################################### | 100% \nPreparing transaction: done\nVerifying transaction: done\nExecuting transaction: - Exception while loading config file /var/pod/.ws/ax-ext/config/wscloud/jupyter_notebook_config.py\n    Traceback (most recent call last):\n      File \"/opt/conda/envs/Python-3.10/lib/python3.10/site-packages/traitlets/config/application.py\", line 738, in _load_config_files\n        config = loader.load_config()\n      File \"/opt/conda/envs/Python-3.10/lib/python3.10/site-packages/traitlets/config/loader.py\", line 614, in load_config\n        self._read_file_as_dict()\n      File \"/opt/conda/envs/Python-3.10/lib/python3.10/site-packages/traitlets/config/loader.py\", line 646, in _read_file_as_dict\n        exec(compile(f.read(), conf_filename, 'exec'), namespace, namespace)\n      File \"/var/pod/.ws/ax-ext/config/wscloud/jupyter_notebook_config.py\", line 16, in <module>\n        from cdsax_jupyter_extensions.ax_log import ax_log_request\n    ModuleNotFoundError: No module named 'cdsax_jupyter_extensions'\nEnabling notebook extension jupyter-js-widgets/extension...\n      - Validating: \u001b[32mOK\u001b[0m\n\ndone\nRetrieving notices: ...working... done\nImportadas\n"
                }
            ],
            "source": "\nfrom geopy.geocoders import Nominatim # convertir una direcci\u00f3n en valores de latitud y longitud\n\nimport requests # librer\u00eda para manejar solicitudes\nfrom pandas.io.json import json_normalize # librer\u00eda para convertir un archivo json en un dataframe pandas\n\n# Matplotlib y m\u00f3dulos asociados para graficar\nimport matplotlib.cm as cm\nimport matplotlib.colors as colors\n\n# importar k-means desde la fase de agrupaci\u00f3n\nfrom sklearn.cluster import KMeans\n\n!conda install -c conda-forge folium=0.5.0 --yes \nimport folium # librer\u00eda para graficar mapas \n\nprint('Importadas')"
        },
        {
            "cell_type": "markdown",
            "metadata": {},
            "source": "<h2>Se utiliza BeatifulSoup para obtener los datos de la p\u00e1gina web que contiene los c\u00f3digos postales de Toronto.</h2>"
        },
        {
            "cell_type": "code",
            "execution_count": 8,
            "metadata": {},
            "outputs": [],
            "source": "URL = \"https://en.wikipedia.org/wiki/List_of_postal_codes_of_Canada:_M\"\npage = requests.get(URL)\nsoup = BeautifulSoup(page.content, \"html.parser\")"
        },
        {
            "cell_type": "markdown",
            "metadata": {},
            "source": "<h2>Seleccionar solo los datos de la tabla que contienen los codigos postales de Toronto.</h2>"
        },
        {
            "cell_type": "code",
            "execution_count": 9,
            "metadata": {},
            "outputs": [],
            "source": "table = soup.find('table')"
        },
        {
            "cell_type": "code",
            "execution_count": 10,
            "metadata": {},
            "outputs": [],
            "source": "file=[]\nncol=list(range(0,9))\n\nfor i in ncol :\n    \n    for row in table.find_all('tr'): # in html table row is represented by the table\n    # Get all columns in each row.\n        cols = row.find_all('p') # in html a column is represented by the tag td or p\n        file.append(cols[i].getText())\n\n    # convert to dataframe:\ndf= pd.DataFrame(file)"
        },
        {
            "cell_type": "markdown",
            "metadata": {},
            "source": "<h2>Se crea tabla de c\u00f3digos postales luego de importar el contenidos en la tabla.Luego se le da formato a la tabla usando pandas.</h2>"
        },
        {
            "cell_type": "code",
            "execution_count": 11,
            "metadata": {},
            "outputs": [],
            "source": "df[\"Postal Code\"]=df[0].str[0:3]\ndf[\"Borough\"]=df[0].str[3:].str.split(\"(\",n=1,expand=True)[0]\ndf[\"Neigh\"]=df[0].str.rsplit(\"(\",n=2,expand=True)[1].str.split(\")\",n=1,expand=True)[0]\ndf[\"Neighbourhood\"]=df[\"Neigh\"].str.replace(\" / \",\",\")"
        },
        {
            "cell_type": "code",
            "execution_count": 12,
            "metadata": {},
            "outputs": [],
            "source": "postalcode_list=df[(df[\"Borough\"]!=\"Not assigned\\n\")]\npostalcode_list=postalcode_list.drop([0,\"Neigh\"],axis=1)"
        },
        {
            "cell_type": "code",
            "execution_count": 13,
            "metadata": {},
            "outputs": [
                {
                    "data": {
                        "text/html": "<div>\n<style scoped>\n    .dataframe tbody tr th:only-of-type {\n        vertical-align: middle;\n    }\n\n    .dataframe tbody tr th {\n        vertical-align: top;\n    }\n\n    .dataframe thead th {\n        text-align: right;\n    }\n</style>\n<table border=\"1\" class=\"dataframe\">\n  <thead>\n    <tr style=\"text-align: right;\">\n      <th></th>\n      <th>Postal Code</th>\n      <th>Borough</th>\n      <th>Neighbourhood</th>\n    </tr>\n  </thead>\n  <tbody>\n    <tr>\n      <th>1</th>\n      <td>M1B</td>\n      <td>Scarborough</td>\n      <td>Malvern,Rouge</td>\n    </tr>\n    <tr>\n      <th>2</th>\n      <td>M1C</td>\n      <td>Scarborough</td>\n      <td>Rouge Hill,Port Union,Highland Creek</td>\n    </tr>\n    <tr>\n      <th>3</th>\n      <td>M1E</td>\n      <td>Scarborough</td>\n      <td>Guildwood,Morningside,West Hill</td>\n    </tr>\n    <tr>\n      <th>4</th>\n      <td>M1G</td>\n      <td>Scarborough</td>\n      <td>Woburn</td>\n    </tr>\n    <tr>\n      <th>5</th>\n      <td>M1H</td>\n      <td>Scarborough</td>\n      <td>Cedarbrae</td>\n    </tr>\n  </tbody>\n</table>\n</div>",
                        "text/plain": "  Postal Code      Borough                         Neighbourhood\n1         M1B  Scarborough                         Malvern,Rouge\n2         M1C  Scarborough  Rouge Hill,Port Union,Highland Creek\n3         M1E  Scarborough       Guildwood,Morningside,West Hill\n4         M1G  Scarborough                                Woburn\n5         M1H  Scarborough                             Cedarbrae"
                    },
                    "execution_count": 13,
                    "metadata": {},
                    "output_type": "execute_result"
                }
            ],
            "source": "postalcode_list.head()"
        },
        {
            "cell_type": "code",
            "execution_count": 14,
            "metadata": {},
            "outputs": [
                {
                    "data": {
                        "text/plain": "(103, 3)"
                    },
                    "execution_count": 14,
                    "metadata": {},
                    "output_type": "execute_result"
                }
            ],
            "source": "postalcode_list.shape"
        },
        {
            "cell_type": "code",
            "execution_count": null,
            "metadata": {},
            "outputs": [],
            "source": ""
        }
    ],
    "metadata": {
        "kernelspec": {
            "display_name": "Python 3.10",
            "language": "python",
            "name": "python3"
        },
        "language_info": {
            "codemirror_mode": {
                "name": "ipython",
                "version": 3
            },
            "file_extension": ".py",
            "mimetype": "text/x-python",
            "name": "python",
            "nbconvert_exporter": "python",
            "pygments_lexer": "ipython3",
            "version": "3.10.6"
        }
    },
    "nbformat": 4,
    "nbformat_minor": 1
}