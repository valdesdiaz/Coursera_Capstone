{
    "cells": [
        {
            "cell_type": "markdown",
            "metadata": {
                "collapsed": true
            },
            "source": "<h1>Recomendación para establecer punto de venta de café</h1>"
        },
         {
            "cell_type": "markdown",
            "metadata": {},
            "source": ""
        },
        {
            "cell_type": "markdown",
            "metadata": {},
            "source": "<h2>Definici\u00f3n del Problema Comercial</h2>"
        },
                 {
            "cell_type": "markdown",
            "metadata": {},
            "source": "<h2>Introducci\u00f3n</h2>"
        },
        {
            "cell_type": "markdown",
            "metadata": {},
            "source": "Unos inversionistas desean comenzar una cadena de kioskos de café moviles con wifi a su alrededor para sus clientes en la ciudad de Brooklyn, New York. En la ciudad de New York actualmente existen multiples cadenas y lugares de venta de café por toda la ciudad. También es una de las ciudades mas caras del mundo por lo cual establecer un negocio que incluya renta de un local y costos de utilidades como luz, agua o internet podria ser un reto para comenzar el mismo. Para ello desean identificar lugares con Wifi gratis en la ciudad, como tambien identificar cuales áreas están cercanas a univerdidades , tiendas y oficinas para determinar área con mayor potencial de ventas y localidades con escases de cafes. Al final nuestra recomendación estará basada en los datos que nos provea el API de Foursquare que contiene la mayor cantidad de data sobre localidades."
        },
        {
            "cell_type": "markdown",
            "metadata": {},
            "source": "<h2>Descripci\u00f3n de los Datos</h2>"
        },
        {
            "cell_type": "markdown",
            "metadata": {},
            "source": "Se usara data con las coordenadas de los puntos con wifi alrededor de New York , de la página NYC data la misma contiene un dataset con las coordenadas de los lugares con wifi gratuito en toda la ciudad de New York. Para identificar los vecindarios con mayor cantidad de tiendas , universidades y oficina usaremos foursquare para que nos devuelva en su API la cantidades por vecindarios. <a href=\"https://data.cityofnewyork.us/City-Government/NYC-Wi-Fi-Hotspot-Locations-Map/7agf-bcsq\">NYC Data</a>"
        },
        {
            "cell_type": "markdown",
            "metadata": {},
            "source": ""
        },
        {
            "cell_type": "markdown",
            "metadata": {},
            "source": "<ul>
    <li>
Se usara data con las coordenadas de los puntos con wifi alrededor de New York <a href="https://data.cityofnewyork.us/City-Government/NYC-Wi-Fi-Hotspot-Locations-Map/7agf-bcsq">NYC Data</a>. En esta data nos provee todas las localidades, barrios y coordenadas que tienen wifi gratis alrededor de la ciudad de New York.
    </li>
    <li>
        Se usara <b><a href="https://es.foursquare.com/developers/login?continue=%2Fdevelopers%2Fprojects">foursquare</a></b> para identificar las universidades, mall y oficinas en el barrio de Brooklyn. En especifico usaremos del API el servicio de "Find Nearby Places" que nos devolvera la cantidad de venues filtrado por categorias, distancia de las coordenadas que le enviaremos.
    </li>
<ul>"
        },
        {
            "cell_type": "code",
            "execution_count": null,
            "metadata": {},
            "outputs": [],
            "source": ""
        }
    ],
    "metadata": {
        "kernelspec": {
            "display_name": "Python 3.10",
            "language": "python",
            "name": "python3"
        },
        "language_info": {
            "codemirror_mode": {
                "name": "ipython",
                "version": 3
            },
            "file_extension": ".py",
            "mimetype": "text/x-python",
            "name": "python",
            "nbconvert_exporter": "python",
            "pygments_lexer": "ipython3",
            "version": "3.10.9"
        }
    },
    "nbformat": 4,
    "nbformat_minor": 1
}
