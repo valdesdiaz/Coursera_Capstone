{
    "cells": [
        {
            "metadata": {
                "collapsed": true
            },
            "cell_type": "markdown",
            "source": "<h1>Proyecto Final Batalla de los Vecindarios</h1>"
        },
        {
            "metadata": {},
            "cell_type": "markdown",
            "source": "<h2>Definici\u00f3n del Problema Comercial</h2>"
        },
        {
            "metadata": {},
            "cell_type": "markdown",
            "source": "Unos inversionistas desean abrir una cadena de kioskos de café con wifi para sus clientes en la ciudad de Brooklyn, New York. Para ello desean identificar lugares con Wifi en la ciudad, como tambien identificar cuales áreas están cercanas a univerdidades , mall y oficinas para determinar área con mayor potencial de ventas."
        },
        {
            "metadata": {},
            "cell_type": "markdown",
            "source": "<h2>Descripci\u00f3n de los Datos</h2>"
        },
        {
            "metadata": {},
            "cell_type": "markdown",
            "source": "Se usara data con las <b>coordenadas de los puntos</b> con wifi de la ciudad de New York <a href="https://data.cityofnewyork.us/City-Government/NYC-Wi-Fi-Hotspot-Locations-Map/7agf-bcsq">NYC OpenData</a>"
        },
        {
            "metadata": {},
            "cell_type": "markdown",
            "source": "Se usara <b>foursquare</b> para identificar las universidades, mall y oficinas en Brooklyn, <a href="https://data.cityofnewyork.us/City-Government/NYC-Wi-Fi-Hotspot-Locations-Map/7agf-bcsq">Foursquare</a>"
        },
        {
            "metadata": {},
            "cell_type": "markdown",
            "source": "Se usara <b>foursquare</b> para identificar las universidades, mall y oficinas en el barrio de Brooklyn."
        },
        {
            "metadata": {},
            "cell_type": "code",
            "source": "",
            "execution_count": null,
            "outputs": []
        }
    ],
    "metadata": {
        "kernelspec": {
            "name": "python3",
            "display_name": "Python 3.10",
            "language": "python"
        },
        "language_info": {
            "name": "python",
            "version": "3.10.9",
            "mimetype": "text/x-python",
            "codemirror_mode": {
                "name": "ipython",
                "version": 3
            },
            "pygments_lexer": "ipython3",
            "nbconvert_exporter": "python",
            "file_extension": ".py"
        }
    },
    "nbformat": 4,
    "nbformat_minor": 1
}
