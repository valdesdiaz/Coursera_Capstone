{
    "cells": [
        {
            "cell_type": "markdown",
            "metadata": {
                "collapsed": true
            },
            "source": "<h1>Proyecto Final Batalla de los Vecindarios</h1>"
        },
        {
            "cell_type": "markdown",
            "metadata": {},
            "source": "<h2>Definici\u00f3n del Problema Comercial</h2>"
        },
        {
            "cell_type": "markdown",
            "metadata": {},
            "source": "Unos inversionistas desean abrir una cadena de coffee shops con wifi para sus clientes en la ciudad de New York en el barrio de Brooklyn. Para ello desean identificar cual provedor de servicio de internet con alta velocidad existe, como tambien identificar cuales zona carecen de coffee shop cercanas a univerdidades , mall y oficinas para determinar la zona con mayor potencial de desarrollo."
        },
        {
            "cell_type": "markdown",
            "metadata": {},
            "source": "<h2>Descripci\u00f3n de los Datos</h2>"
        },
        {
            "cell_type": "markdown",
            "metadata": {},
            "source": "Se usara un archivo con las <b>coordenadas de las zonas</b> en los respectivo barrios de la ciudad de New York"
        },
        {
            "cell_type": "markdown",
            "metadata": {},
            "source": "Para identificar los <b>provedores de servicio de internet</b> se usara un archivo en excel de la FCC donde identifica las coordenadas de cada proveedor y su velocidad en las zonas residenciales. "
        },
        {
            "cell_type": "markdown",
            "metadata": {},
            "source": "Se usara <b>foursquare</b> para identificar las universidades, mall y oficinas en el barrio de Brooklyn."
        },
        {
            "cell_type": "code",
            "execution_count": null,
            "metadata": {},
            "outputs": [],
            "source": ""
        }
    ],
    "metadata": {
        "kernelspec": {
            "display_name": "Python 3.10",
            "language": "python",
            "name": "python3"
        },
        "language_info": {
            "codemirror_mode": {
                "name": "ipython",
                "version": 3
            },
            "file_extension": ".py",
            "mimetype": "text/x-python",
            "name": "python",
            "nbconvert_exporter": "python",
            "pygments_lexer": "ipython3",
            "version": "3.10.9"
        }
    },
    "nbformat": 4,
    "nbformat_minor": 1
}