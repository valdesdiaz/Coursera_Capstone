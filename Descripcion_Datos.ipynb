{
    "cells": [
        {
            "metadata": {
                "collapsed": true
            },
            "cell_type": "markdown",
            "source": "<h1>Proyecto Final Batalla de los Vecindarios</h1>"
        },
        {
            "metadata": {},
            "cell_type": "markdown",
            "source": "<h2>Definici\u00f3n del Problema Comercial</h2>"
        },
        {
            "metadata": {},
            "cell_type": "markdown",
            "source": "Unos inversionistas desean abrir una cadena de coffee shops con wifi para sus clientes en la ciudad de New York en el barrio de Brooklyn. Para ello desean identificar cual provedor de servicio de internet con alta velocidad existe, como tambien identificar cuales zona carecen de coffee shop cercanas a univerdidades , mall y oficinas para determinar la zona con mayor potencial de desarrollo."
        },
        {
            "metadata": {},
            "cell_type": "markdown",
            "source": "<h2>Descripci\u00f3n de los Datos</h2>"
        },
        {
            "metadata": {},
            "cell_type": "markdown",
            "source": "Se usara un archivo con las <b>coordenadas de las zonas</b> en los respectivo barrios de la ciudad de New York"
        },
        {
            "metadata": {},
            "cell_type": "markdown",
            "source": "Para identificar los <b>provedores de servicio de internet</b> se usara un archivo en excel de la FCC donde identifica las coordenadas de cada proveedor y su velocidad en las zonas residenciales. "
        },
        {
            "metadata": {},
            "cell_type": "markdown",
            "source": "Se usara <b>foursquare</b> para identificar las universidades, mall y oficinas en el barrio de Brooklyn."
        },
        {
            "metadata": {},
            "cell_type": "code",
            "source": "",
            "execution_count": null,
            "outputs": []
        }
    ],
    "metadata": {
        "kernelspec": {
            "name": "python3",
            "display_name": "Python 3.10",
            "language": "python"
        },
        "language_info": {
            "name": "python",
            "version": "3.10.9",
            "mimetype": "text/x-python",
            "codemirror_mode": {
                "name": "ipython",
                "version": 3
            },
            "pygments_lexer": "ipython3",
            "nbconvert_exporter": "python",
            "file_extension": ".py"
        }
    },
    "nbformat": 4,
    "nbformat_minor": 1
}