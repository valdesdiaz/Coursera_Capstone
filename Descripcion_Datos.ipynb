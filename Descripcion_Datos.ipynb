{
    "cells": [
        {
            "cell_type": "markdown",
            "metadata": {
                "collapsed": true
            },
            "source": [
                "<h1>Recomendación para establecer punto de venta de café</h1>"
            ]
        },
        {
            "attachments": {},
            "cell_type": "markdown",
            "metadata": {},
            "source": [
                "<h2>Tabla de Contenido</h2>\n",
                "<ul>\n",
                "    <li>Introducción</li>\n",
                "    <li>Data</li>\n",
                "    <li>Metodología</li>\n",
                "    <li>Análisis</li>\n",
                "    <li>Resultados</li>\n",
                "    <li>Discución</li>\n",
                "    <li>Conclusión</li>\n",
                "   </ul>"
            ]
        },
        {
            "cell_type": "markdown",
            "metadata": {},
            "source": [
                "<h2>Definición del Problema Comercial</h2>"
            ]
        },
        {
            "cell_type": "markdown",
            "metadata": {},
            "source": [
                "<h2>Introducción</h2>"
            ]
        },
        {
            "cell_type": "markdown",
            "metadata": {},
            "source": [
                "Unos inversionistas desean comenzar una cadena de kioskos de café moviles con wifi a su alrededor para sus clientes en la ciudad de Brooklyn, New York. En la ciudad de New York actualmente existen multiples cadenas y lugares de venta de café por toda la ciudad. También es una de las ciudades mas caras del mundo por lo cual establecer un negocio que incluya renta de un local y costos de utilidades como luz, agua o internet podria ser un reto para comenzar el mismo. Para ello desean identificar lugares con Wifi gratis en la ciudad, como tambien identificar cuales áreas están cercanas a univerdidades , tiendas y oficinas para determinar área con mayor potencial de ventas y localidades con escases de cafes. Al final nuestra recomendación estará basada en los datos que nos provea el API de Foursquare que contiene la mayor cantidad de data sobre localidades."
            ]
        },
        {
            "attachments": {},
            "cell_type": "markdown",
            "metadata": {},
            "source": [
                "<h2>Data</h2>"
            ]
        },
        {
            "cell_type": "markdown",
            "metadata": {},
            "source": [
                "<ul>\n",
                "    <li>\n",
                "Se usara data con las coordenadas de los puntos con wifi alrededor de New York <a href=\"https://data.cityofnewyork.us/City-Government/NYC-Wi-Fi-Hotspot-Locations-Map/7agf-bcsq\">NYC Data</a>. En esta data nos provee todas las localidades, barrios y coordenadas que tienen wifi gratis alrededor de la ciudad de New York.\n",
                "    </li>\n",
                "    <li>\n",
                "        Se usara <b><a href=\"https://es.foursquare.com/developers/login?continue=%2Fdevelopers%2Fprojects\">foursquare</a></b> para identificar las universidades, mall y oficinas en el barrio de Brooklyn. En especifico usaremos del API el servicio de \"Find Nearby Places\" que nos devolvera la cantidad de venues filtrado por categorias, distancia de las coordenadas que le enviaremos.\n",
                "    </li>\n",
                "<ul>"
            ]
        }
    ],
    "metadata": {
        "kernelspec": {
            "display_name": "Python 3.10",
            "language": "python",
            "name": "python3"
        },
        "language_info": {
            "codemirror_mode": {
                "name": "ipython",
                "version": 3
            },
            "file_extension": ".py",
            "mimetype": "text/x-python",
            "name": "python",
            "nbconvert_exporter": "python",
            "pygments_lexer": "ipython3",
            "version": "3.10.9"
        }
    },
    "nbformat": 4,
    "nbformat_minor": 1
}
