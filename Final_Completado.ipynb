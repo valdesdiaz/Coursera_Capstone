{
 "cells": [
  {
   "cell_type": "markdown",
   "metadata": {
    "collapsed": true
   },
   "source": [
    "<h1>Recomendación para establecer punto de venta de café</h1>"
   ]
  },
  {
   "cell_type": "markdown",
   "metadata": {},
   "source": [
    "<h2>Tabla de Contenido</h2>\n",
    "<ul>\n",
    "    <li>Introducción</li>\n",
    "    <li>Data</li>\n",
    "    <li>Metodología</li>\n",
    "    <li>Análisis</li>\n",
    "    <li>Resultados</li>\n",
    "    <li>Discución</li>\n",
    "    <li>Conclusión</li>\n",
    "   </ul>"
   ]
  },
  {
   "cell_type": "markdown",
   "metadata": {},
   "source": [
    "<h2>Introducción</h2>"
   ]
  },
  {
   "cell_type": "markdown",
   "metadata": {},
   "source": [
    "Unos inversionistas desean comenzar una cadena de kioskos de café moviles con wifi a su alrededor para sus clientes en la ciudad de Brooklyn, New York. En la ciudad de New York actualmente existen multiples cadenas y lugares de venta de café por toda la ciudad. También es una de las ciudades mas caras del mundo por lo cual establecer un negocio que incluya renta de un local y costos de utilidades como luz, agua o internet podria ser un reto para comenzar el mismo. Para ello desean identificar lugares con Wifi gratis en la ciudad, como tambien identificar cuales áreas están cercanas a univerdidades , tiendas y oficinas para determinar área con mayor potencial de ventas y localidades con escases de cafes. Al final nuestra recomendación estará basada en los datos que nos provea el API de Foursquare que contiene la mayor cantidad de data sobre localidades."
   ]
  },
  {
   "cell_type": "markdown",
   "metadata": {},
   "source": [
    "<h2>Descripción de los Datos</h2>"
   ]
  },
  {
   "cell_type": "markdown",
   "metadata": {},
   "source": [
    "<ul>\n",
    "    <li>\n",
    "Se usara data con las coordenadas de los puntos con wifi alrededor de New York <a href=\"https://data.cityofnewyork.us/City-Government/NYC-Wi-Fi-Hotspot-Locations-Map/7agf-bcsq\">NYC Data</a>. En esta data nos provee todas las localidades, barrios y coordenadas que tienen wifi gratis alrededor de la ciudad de New York.\n",
    "    </li>\n",
    "    <li>\n",
    "        Se usara <b><a href=\"https://es.foursquare.com/developers/login?continue=%2Fdevelopers%2Fprojects\">foursquare</a></b> para identificar las universidades, mall y oficinas en el barrio de Brooklyn. En especifico usaremos del API el servicio de \"Find Nearby Places\" que nos devolvera la cantidad de venues filtrado por categorias, distancia de las coordenadas que le enviaremos.\n",
    "    </li>\n",
    "<ul>"
   ]
  },
  {
   "cell_type": "markdown",
   "metadata": {},
   "source": [
    "<h2>Metodología</h2>\n",
    "<p>En este proyecto nos estaremos enfocando en manipular data de las localidades con wifi alrededor de la ciudad de New York para el mismo utilizaremos el método de agrupación y segmentación. Seleccionaremos solo las localidades del sector de Brooklyn, NY ya que es donde nos interesa comenzar el negocio. Caragaremos los datos ya filtrados de excel a un dataframe en Panda, para luego contabilizar cuales barrios tienen mayor cantidad de localidades con wifi y vusualizar el resultado en gráfico de barras. De aqui segmentaremos nuestro dataframe para solo quedarnos con los barrios con mayor cantidad.</p>\n",
    "\n",
    "<p> Una vez identidicado en nuestro dataframe las localidades con wifi gratis que estaremos evaluando, usaremos el API de Foursquare para enviarle cada una de las coordenadas de esas localidades y calcular la cantidad de venues con las categorias que nos interasa (Tiendas ,universidades y oficinas). Del resultado obtenido del API normalizaremos el json y crearemos un dataframe nuevo donde insertaremos la localización,barrio, coordenadas y la cantidad de venues calculada con los resultados enviados de Foursquare. Luego procederemos a identificar solo los que contenga 50 venues que es la cantidad máxima que devuelve Foursquare en el radio enviado como parámetro en este caso 500 y actualizamos nuestro dataframe</p>\n",
    "\n",
    "<p> Finalmente repetiremos el proceso pero esta vez buscaremos en Foursquare los venues de café alrededor de cada una de nuestras localidades y solo escojeremos las diez con menos venues devueltos por el Foursquare.</p>\n",
    "<p>Nuestra recomendación estara basada en cuales barrios con mayor cantidad de universidades,tiendas u oficinas alrededor y que a la misma vez contenga menos cantidad de negocios de café alrededor en Brooklyn, NY. Usaremos tablas de nuestro dataframe, gráfico de barras y mapas para mostrar los puntos con wifi con posible utilización para establecer un kioso de negocio o de venta de café."
   ]
  },
  {
   "cell_type": "markdown",
   "metadata": {},
   "source": [
    "<h2>Análisis</h2>\n",
    "Realizaremos los siguientes procedimientos para nuestro análisis:"
   ]
  },
  {
   "cell_type": "markdown",
   "metadata": {},
   "source": [
    "<h1>Librerias para Python</h1>"
   ]
  },
  {
   "cell_type": "code",
   "execution_count": null,
   "metadata": {},
   "outputs": [],
   "source": [
    "import numpy as np  # datos vectorizados\n",
    "import pandas as pd # dataframes \n"
   ]
  },
  {
   "cell_type": "code",
   "execution_count": null,
   "metadata": {},
   "outputs": [],
   "source": [
    "import matplotlib.pyplot as plt #para graficar\n",
    "%matplotlib inline "
   ]
  },
  {
   "cell_type": "code",
   "execution_count": null,
   "metadata": {},
   "outputs": [],
   "source": [
    "#manejar archivos JSON \n",
    "import json \n",
    "!conda install -c conda-forge geopy --yes"
   ]
  },
  {
   "cell_type": "code",
   "execution_count": null,
   "metadata": {},
   "outputs": [],
   "source": [
    "from geopy.geocoders import Nominatim # convertir valores de latitud y longitud"
   ]
  },
  {
   "cell_type": "code",
   "execution_count": null,
   "metadata": {},
   "outputs": [],
   "source": [
    "import requests #manejar solicitudes\n",
    "from pandas.io.json import json_normalize #convertir un archivo json en un dataframe pandas\n",
    "\n",
    "# Matplotlib y módulos asociados para graficar\n",
    "import matplotlib.cm as cm\n",
    "import matplotlib.colors as colors\n",
    "\n",
    "# importar k-means desde la fase de agrupación\n",
    "from sklearn.cluster import KMeans\n",
    "from sklearn.metrics import pairwise_distances_argmin_min"
   ]
  },
  {
   "cell_type": "code",
   "execution_count": null,
   "metadata": {},
   "outputs": [],
   "source": [
    "!conda install -c conda-forge folium=0.5.0 --yes"
   ]
  },
  {
   "cell_type": "code",
   "execution_count": null,
   "metadata": {},
   "outputs": [],
   "source": [
    "import folium #graficar mapas "
   ]
  },
  {
   "cell_type": "markdown",
   "metadata": {},
   "source": [
    "<h1>Exploración de los puntos con wifi en la ciudad de New York<h1>"
   ]
  },
  {
   "cell_type": "markdown",
   "metadata": {},
   "source": [
    "Se procedio a trabajar la data descargada en excel del site NYC Data donde contiene los puntos con wifi alrededor de la ciudad de New York, pero antes se le aplico un filtros para solo los puntos en el vecindario de Brooklyn. "
   ]
  },
  {
   "cell_type": "code",
   "execution_count": null,
   "metadata": {},
   "outputs": [],
   "source": [
    "location = pd.read_csv(\"NYC_Wi-Fi_Hotspot_Locations_Map_Filter.csv\")\n",
    "location=location.query(\"Borough_Name=='Brooklyn'\")\n",
    "location.head()\n"
   ]
  },
  {
   "cell_type": "markdown",
   "metadata": {},
   "source": [
    "<h1>Explorando los datos cargados</h1>"
   ]
  },
  {
   "cell_type": "code",
   "execution_count": null,
   "metadata": {},
   "outputs": [],
   "source": [
    "areas=pd.DataFrame(location.groupby([\"Neighborhood_Tabulation_Area\"]).size(),columns=['Neighborhood_Tabulation_Area_Code']).sort_values(by=\"Neighborhood_Tabulation_Area_Code\")\n",
    "\n",
    "# Initialize a Figure and an Axes\n",
    "fig, ax = plt.subplots()\n",
    "\n",
    "# Fig size\n",
    "fig.set_size_inches(10,8)\n",
    "\n",
    "# Create horizontal bars\n",
    "ax.barh(y=areas.index, width=areas.Neighborhood_Tabulation_Area_Code);\n",
    "\n",
    "# Add title\n",
    "ax.set_title('Cantidad de wifi-spot por barrios');"
   ]
  },
  {
   "cell_type": "markdown",
   "metadata": {},
   "source": [
    "En el estudio solo nos limitaremos a sector de Brooklyn. Seleccionaremos los primeros 5 barrios con más puntos de wifi y obtendremos las coordenadas de ellos para luego utilizarlas en foursquare. Por medio de la libreria folium se muestran las localidades seleccionadas en un mapa."
   ]
  },
  {
   "cell_type": "code",
   "execution_count": null,
   "metadata": {},
   "outputs": [],
   "source": [
    "\n",
    "#Limpiar dataframe\n",
    "vecindarios=location.drop([\"OBJECTID\",\"Type\",\"Provider\",\"X\",\"Y\",\"Location_T\",\"City\",\"Borough_Name\",\"Location_points\"],axis=1)"
   ]
  },
  {
   "cell_type": "code",
   "execution_count": null,
   "metadata": {},
   "outputs": [],
   "source": [
    "vecindarios.reset_index(drop=True,inplace=True)\n",
    "vecindarios.rename(columns={\"Neighborhood_Tabulation_Area_Code\":\"Code\",\"Neighborhood_Tabulation_Area\":\"Neighborhood\", \"Location\": \"label\", \"Latitude\": \"lat\" , \"Longitude\": \"lng\"},inplace=True)\n",
    "\n",
    "#Solo utilizaremos los 5 vecindarios con más puntos de wifi\n",
    "# fast method\n",
    "filter_list = ['BK38', 'BK37', 'BK68', 'BK61', 'BK73']\n",
    "vecindarios=vecindarios[vecindarios.Code.isin(filter_list)]\n",
    "print(vecindarios)"
   ]
  },
  {
   "cell_type": "code",
   "execution_count": null,
   "metadata": {},
   "outputs": [],
   "source": [
    "plt.figure(figsize=(9,5), dpi = 100)\n",
    "# title\n",
    "plt.title('primeros 5 barrios con más puntos de wifi ')\n",
    "#On x-axis\n",
    "plt.xlabel('Location', fontsize = 15)\n",
    "#On y-axis\n",
    "plt.ylabel('Total', fontsize=15)\n",
    "#giving a bar plot\n",
    "vecindarios.groupby('Neighborhood')['label'].count().plot(kind='bar')\n",
    "#legend\n",
    "plt.legend()\n",
    "#displays the plot\n",
    "plt.show()"
   ]
  },
  {
   "cell_type": "code",
   "execution_count": null,
   "metadata": {},
   "outputs": [],
   "source": [
    "address = 'Brooklyn'\n",
    "geolocator = Nominatim(user_agent=\"to_explorer\")\n",
    "location_map = geolocator.geocode(address)\n",
    "print(location_map)\n",
    "latitude_map = location_map.latitude\n",
    "longitude_map = location_map.longitude\n",
    "print('The geograpical coordinate of Brooklyn are {}, {}.'.format(latitude_map, longitude_map))"
   ]
  },
  {
   "cell_type": "code",
   "execution_count": null,
   "metadata": {},
   "outputs": [],
   "source": [
    "# crear un mapa de Brooklyn usando los valores de latitud y longitud\n",
    "mapa = folium.Map(location=[latitude_map, longitude_map], zoom_start=11)\n"
   ]
  },
  {
   "cell_type": "markdown",
   "metadata": {},
   "source": [
    "<h2>Mapa con los puntos donde existe Wifi en el vecindario de Brooklyn, NY</h2>"
   ]
  },
  {
   "cell_type": "code",
   "execution_count": null,
   "metadata": {},
   "outputs": [],
   "source": [
    "\n",
    "# añadir los marcadores al mapa de los puntos wifi\n",
    "for lat, lng, label in zip(vecindarios['lat'], vecindarios['lng'], vecindarios['label']):\n",
    "    label = folium.Popup(label, parse_html=True)\n",
    "    folium.CircleMarker(\n",
    "        [lat, lng],\n",
    "        radius=8,\n",
    "        popup=label,\n",
    "        color='blue',\n",
    "        fill=True,\n",
    "        fill_color='#3186cc',\n",
    "        fill_opacity=0.7,\n",
    "        parse_html=False).add_to(mapa)  \n",
    "   #comente esta linea para proposito de performance en github   \n",
    "#mapa"
   ]
  },
  {
   "cell_type": "markdown",
   "metadata": {},
   "source": [
    "<h1>Utilizando Foursquare</h1>"
   ]
  },
  {
   "cell_type": "markdown",
   "metadata": {},
   "source": [
    "Se utilizara el API de FourSquare para explorar las áreas y segmentar, por medio de una función que los explore todos."
   ]
  },
  {
   "cell_type": "code",
   "execution_count": null,
   "metadata": {},
   "outputs": [],
   "source": [
    "CLIENT_ID = 'MYIJZ5F2KGAABO4EEFMC1L2BPO15BJF0Q5NHEQWTJKCCQPW3' # su ID de Foursquare\n",
    "CLIENT_SECRET = 'AIVOTS3TWVHXV4Z1O4N0Y0VGO5GIPPWRB4MI5HP5YQM5Z345' # Secreto de Foursquare\n",
    "VERSION = '20180605' # versión de la API de Foursquare\n",
    "LIMIT = 100 # Un valor límite para la API de Foursquare\n",
    "\n",
    "print('Your credentails:')\n",
    "print('CLIENT_ID: ' + CLIENT_ID)\n",
    "print('CLIENT_SECRET:' + CLIENT_SECRET)"
   ]
  },
  {
   "cell_type": "code",
   "execution_count": null,
   "metadata": {},
   "outputs": [],
   "source": []
  },
  {
   "cell_type": "code",
   "execution_count": null,
   "metadata": {},
   "outputs": [],
   "source": [
    "def get_category_count(lat,lng):\n",
    "    import requests\n",
    "    url = \"https://api.foursquare.com/v3/places/search?ll={}%2C{}&radius=500&categories=17114%2C17104%2C12013%2C11124&fields=name%2Ccategories%2Clocation%2Cdistance&sort=DISTANCE&limit=50\".format(\n",
    "            lat,lng)\n",
    "\n",
    "    headers = {\n",
    "        \"accept\": \"application/json\",\n",
    "        \"Authorization\": \"fsq3Zg8v3F1ZNeaZ0LMdACtrdq7PIOQ5oqh2aaylyDdL1X8=\"\n",
    "    }\n",
    "\n",
    "    response = requests.get(url, headers=headers)\n",
    "    import json\n",
    "    data = response.json()\n",
    "    neighborhoods_data=data['results']\n",
    "    #Creando las columnas del dataframe\n",
    "    columnas_nombres = ['Borough', 'Name', 'Distance', 'Category']\n",
    "    neighborhoods_dataframe = pd.DataFrame(columns=columnas_nombres)\n",
    "    neighborhoods_dataframe\n",
    "    #iteraccion para llenar el dataframe\n",
    "    for data in neighborhoods_data:\n",
    "        borough = data['location']['locality']\n",
    "        neighborhood_name = data['name']\n",
    "        neighborhood_category = data['categories'][0]['name']\n",
    "        neighborhood_distance = data['distance']\n",
    "        neighborhoods_dataframe = neighborhoods_dataframe.append({'Borough': borough,\n",
    "        'Name': neighborhood_name,\n",
    "        'Distance': neighborhood_distance,\n",
    "        'Category':neighborhood_category},ignore_index=True)\n",
    "        \n",
    "    return len(neighborhoods_dataframe)"
   ]
  },
  {
   "cell_type": "code",
   "execution_count": null,
   "metadata": {},
   "outputs": [],
   "source": [
    "#import json\n",
    "#Creando las columnas del dataframe con la cantidad de venues\n",
    "columnas = ['Neighborhood', 'Location_Wifi', 'Total_Venues', 'Latitud', 'Longitude']\n",
    "DF_Venues = pd.DataFrame(columns=columnas)\n",
    "print(DF_Venues)"
   ]
  },
  {
   "cell_type": "code",
   "execution_count": null,
   "metadata": {},
   "outputs": [],
   "source": [
    "#recorrer tabla con las coordenadas\n",
    "\n",
    "#nuevo Dataframe con cantidad de venues por puntos de wifi\n",
    "for lat,lon,label,neighborhood in zip(vecindarios['lat'],vecindarios['lng'],vecindarios['label'],vecindarios['Neighborhood']):\n",
    "    #Contiene el total de venues alrededor del wifi-spot\n",
    "    function_result=get_category_count(lat,lon)\n",
    "    DF_Venues=DF_Venues.append({'Neighborhood':neighborhood,'Location_Wifi':label,'Total_Venues':function_result,'Latitud':lat,'Longitude':lon},ignore_index=True)\n"
   ]
  },
  {
   "cell_type": "code",
   "execution_count": null,
   "metadata": {},
   "outputs": [],
   "source": [
    "print(DF_Venues)"
   ]
  },
  {
   "cell_type": "code",
   "execution_count": null,
   "metadata": {},
   "outputs": [],
   "source": [
    "#Ordenando el DataFrame con los totales mas altos primeros\n",
    "DF_Venues.sort_values(['Total_Venues'],ascending=False).head(133)"
   ]
  },
  {
   "cell_type": "markdown",
   "metadata": {},
   "source": [
    "Del dataframe con las cantidades hay 133 puntos con wifi que tienen mas 50 venues."
   ]
  },
  {
   "cell_type": "code",
   "execution_count": null,
   "metadata": {},
   "outputs": [],
   "source": [
    "DF_Venues=DF_Venues[DF_Venues['Total_Venues']==50]\n",
    "DF_Venues"
   ]
  },
  {
   "cell_type": "code",
   "execution_count": null,
   "metadata": {},
   "outputs": [],
   "source": [
    "plt.figure(figsize=(9,5), dpi = 100)\n",
    "# title\n",
    "plt.title('Barrios con mayor wifi-spot con venues alrededor')\n",
    "#On x-axis\n",
    "plt.xlabel('Neighborhoodh', fontsize = 15)\n",
    "#On y-axis\n",
    "plt.ylabel('Total', fontsize=15)\n",
    "#giving a bar plot\n",
    "DF_Venues.groupby('Neighborhood')['Location_Wifi'].count().plot(kind='bar')\n",
    "#legend\n",
    "plt.legend()\n",
    "#displays the plot\n",
    "plt.show()"
   ]
  },
  {
   "cell_type": "markdown",
   "metadata": {},
   "source": [
    "<h1>Mapa de los puntos con wifi con mayor concentración de venues(Oficinas, Tienda o Colegios) alrededor</h1>"
   ]
  },
  {
   "cell_type": "code",
   "execution_count": null,
   "metadata": {},
   "outputs": [],
   "source": [
    "# crear un mapa con los puntos de wifi que tienen mas de 50 venues alrededor\n",
    "mapa_totalvenues = folium.Map(location=[40.690844, -73.983463], zoom_start=15)\n",
    "\n",
    "# añadir los marcadores al mapa de los puntos wifi\n",
    "for lat, lng, label in zip(DF_Venues['Latitud'], DF_Venues['Longitude'], DF_Venues['Location_Wifi']):\n",
    "    label = folium.Popup(label, parse_html=True)\n",
    "    folium.CircleMarker(\n",
    "        [lat, lng],\n",
    "        radius=8,\n",
    "        popup=label,\n",
    "        color='blue',\n",
    "        fill=True,\n",
    "        fill_color='#3186cc',\n",
    "        fill_opacity=0.7,\n",
    "        parse_html=False).add_to(mapa_totalvenues)  \n",
    "#comente esta linea para proposito de performance en github    \n",
    "mapa_totalvenues \n"
   ]
  },
  {
   "cell_type": "markdown",
   "metadata": {},
   "source": [
    "<h1>Desde este punto identificar cuales wifi-spot tienen menor competencia alrededor entiendace Coffee-Shops</h1>"
   ]
  },
  {
   "cell_type": "code",
   "execution_count": null,
   "metadata": {},
   "outputs": [],
   "source": [
    "def get_coffee_count(lat,lng):\n",
    "    import requests\n",
    "    url = \"https://api.foursquare.com/v3/places/search?ll={}%2C{}&radius=500&categories=13032%2C13037%2C11126&fields=name%2Ccategories%2Clocation%2Cdistance&sort=DISTANCE&limit=50\".format(\n",
    "            lat,lng)\n",
    "\n",
    "    headers = {\n",
    "        \"accept\": \"application/json\",\n",
    "        \"Authorization\": \"fsq3Zg8v3F1ZNeaZ0LMdACtrdq7PIOQ5oqh2aaylyDdL1X8=\"\n",
    "    }\n",
    "\n",
    "    response = requests.get(url, headers=headers)\n",
    "    import json\n",
    "    data = response.json()\n",
    "    neighborhoods_data=data['results']\n",
    "    #Creando las columnas del dataframe\n",
    "    columnas_nombres = ['Borough', 'Name', 'Distance', 'Category']\n",
    "    neighborhoods_dataframe = pd.DataFrame(columns=columnas_nombres)\n",
    "    neighborhoods_dataframe\n",
    "    #iteraccion para llenar el dataframe\n",
    "    for data in neighborhoods_data:\n",
    "        borough = data['location']['locality']\n",
    "        neighborhood_name = data['name']\n",
    "        neighborhood_category = data['categories'][0]['name']\n",
    "        neighborhood_distance = data['distance']\n",
    "        neighborhoods_dataframe = neighborhoods_dataframe.append({'Borough': borough,\n",
    "        'Name': neighborhood_name,\n",
    "        'Distance': neighborhood_distance,\n",
    "        'Category':neighborhood_category},ignore_index=True)\n",
    "        \n",
    "    return len(neighborhoods_dataframe)"
   ]
  },
  {
   "cell_type": "code",
   "execution_count": null,
   "metadata": {},
   "outputs": [],
   "source": [
    "#Creando las columnas del dataframe con la cantidad de tiendas de cafe alrededor\n",
    "columnas = ['Neighborhood', 'Location_Wifi', 'Total_Coffees', 'Latitud', 'Longitude']\n",
    "DF_Coffee = pd.DataFrame(columns=columnas)\n",
    "print(DF_Coffee)"
   ]
  },
  {
   "cell_type": "code",
   "execution_count": null,
   "metadata": {},
   "outputs": [],
   "source": [
    "#nuevo Dataframe con cantidad de cafes por puntos de wifi del dataframe filtrado ante\n",
    "for lat,lon,label,neighborhood in zip(DF_Venues['Latitud'],DF_Venues['Longitude'],DF_Venues['Location_Wifi'],DF_Venues['Neighborhood']):\n",
    "    #Contiene el total de cafes alrededor del wifi-spot\n",
    "    function_result=get_coffee_count(lat,lon)\n",
    "    DF_Coffee=DF_Coffee.append({'Neighborhood':neighborhood,'Location_Wifi':label,'Total_Coffees':function_result,'Latitud':lat,'Longitude':lon},ignore_index=True)"
   ]
  },
  {
   "cell_type": "code",
   "execution_count": null,
   "metadata": {},
   "outputs": [],
   "source": [
    "print(DF_Coffee)"
   ]
  },
  {
   "cell_type": "code",
   "execution_count": null,
   "metadata": {},
   "outputs": [],
   "source": [
    "plt.figure(figsize=(9,5), dpi = 100)\n",
    "# title\n",
    "plt.title('Barrios con menor cafes alrededor y mayor cantidad de wifi-spot')\n",
    "#On x-axis\n",
    "plt.xlabel('Neighborhoodh', fontsize = 15)\n",
    "#On y-axis\n",
    "plt.ylabel('Total', fontsize=15)\n",
    "#giving a bar plot\n",
    "DF_Coffee.groupby('Neighborhood')['Location_Wifi'].count().plot(kind='bar')\n",
    "#legend\n",
    "plt.legend()\n",
    "#displays the plot\n",
    "plt.show()"
   ]
  },
  {
   "cell_type": "code",
   "execution_count": null,
   "metadata": {},
   "outputs": [],
   "source": [
    "#Ordenando el DataFrame con los totales mas bajos primeros\n",
    "\n",
    "DF_Coffee=DF_Coffee[DF_Coffee['Total_Coffees']<=10]\n",
    "DF_Coffee.sort_values(['Total_Coffees'],ascending=False).head(100)"
   ]
  },
  {
   "cell_type": "markdown",
   "metadata": {},
   "source": [
    "<h1>Resultado y Discusión</h1>\n",
    "<h3>Diez puntos de wifi con menos cafes alrededor para competir<h3>"
   ]
  },
  {
   "cell_type": "code",
   "execution_count": null,
   "metadata": {},
   "outputs": [],
   "source": [
    "# crear un mapa con los puntos de wifi que tienen mas de 50 venues alrededor\n",
    "mapa_totalcoffees = folium.Map(location=[40.690844, -73.983463], zoom_start=12)\n",
    "\n",
    "# añadir los marcadores al mapa de los puntos wifi\n",
    "for lat, lng, label in zip(DF_Coffee['Latitud'], DF_Coffee['Longitude'], DF_Coffee['Location_Wifi']):\n",
    "    label = folium.Popup(label, parse_html=True)\n",
    "    folium.CircleMarker(\n",
    "        [lat, lng],\n",
    "        radius=8,\n",
    "        popup=label,\n",
    "        color='blue',\n",
    "        fill=True,\n",
    "        fill_color='#3186cc',\n",
    "        fill_opacity=0.7,\n",
    "        parse_html=False).add_to(mapa_totalcoffees)  \n",
    " #comente esta linea para proposito de performance en github     \n",
    "mapa_totalcoffees"
   ]
  },
  {
   "cell_type": "markdown",
   "metadata": {},
   "source": [
    "<h2>Descubrimientos</h2>\n",
    "\n",
    "<ul>\n",
    "    <li>En <b>DUMBO-Vinegar Hill-Downtown Brooklyn-Boerum Hill</b> tienen la mayor cantidad de puntos de wifi en Brooklyn con universidades, tiendas y oficinas alrededor</li>\n",
    "    <li>En <b>Crown Heights Northl</b> es donde menor competencia de cafes hay alrededor con mayor cantidad de universidades, tiendas y oficinas alrededor</li>\n",
    "</ul>"
   ]
  },
  {
   "cell_type": "markdown",
   "metadata": {},
   "source": [
    "<h2>Recomendación</h2>\n",
    "En el barrio <b>Crown Heights Northl</b> las localizaciones en <b>1874 FULTON STREET</b> y <b>1805 FULTON STREET</b> son las mejores para establecer un kiosko de café en el sector de Brookly, NY debido a :\n",
    "<ol>\n",
    "    <li>Contiene la mayor cantidad(50) de universidades, tiendas u oficinas alrededor con mayor potencial de clientes</li>\n",
    "    <li>Tiene wifi gratis alrededor siendo otro atractivo para que los clientes se detengan a consumir, sin tener que invertir en un provedor de servicio</li>\n",
    "    <li>Es donde menos cantidad de competencia de cafes tendra alrededor ya que solo tiene dos</li>"
   ]
  },
  {
   "cell_type": "markdown",
   "metadata": {},
   "source": [
    "<h1>Conclusión</h1>\n",
    "<p>En este proyecto, identificamos las localizaciones del sector de Brooklyn , New York con mayor cantidad de venues\n",
    "alrededor que proveen más clientela para nuestro negocio como también la localizacón con menos competencia alrededor utilizando las data de Foursquare. LUego usando librerias de Folium identificamos esos puntos en una mapa para mejor visialización.</p>\n",
    "<p>Luego de identificar esas localidades pudimos recomendar que en el barrio de Crown Heights North los puntos de 1874 FULTON STREET y 1805 FULTON STREET serian los de mayor éxito para establecer un negocio o punto de venta de café para los inversionistas."
   ]
  },
  {
   "cell_type": "code",
   "execution_count": null,
   "metadata": {},
   "outputs": [],
   "source": []
  }
 ],
 "metadata": {
  "kernelspec": {
   "display_name": "Python 3 (ipykernel)",
   "language": "python",
   "name": "python3"
  },
  "language_info": {
   "codemirror_mode": {
    "name": "ipython",
    "version": 3
   },
   "file_extension": ".py",
   "mimetype": "text/x-python",
   "name": "python",
   "nbconvert_exporter": "python",
   "pygments_lexer": "ipython3",
   "version": "3.9.13"
  }
 },
 "nbformat": 4,
 "nbformat_minor": 1
}
